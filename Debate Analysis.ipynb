{
 "cells": [
  {
   "cell_type": "code",
   "execution_count": 2,
   "metadata": {},
   "outputs": [],
   "source": [
    "import re\n",
    "import pandas as pd\n",
    "from datetime import timedelta, datetime\n",
    "import numpy as np\n",
    "from nltk import word_tokenize\n",
    "from tqdm import tqdm\n",
    "tqdm.pandas()\n",
    "\n",
    "flatten = lambda l: [item for sublist in l for item in sublist]\n",
    "pd.set_option('display.max_rows', 100)\n",
    "pd.set_option('display.max_colwidth', -1)\n",
    "ALIASES = {\n",
    "    \"Joe Biden\": [],\n",
    "    \"Bernie Sanders\": [],\n",
    "    \"Pete Buttigieg\": [\"Mayor Buttigieg\"],\n",
    "    \"Amy Klobuchar\": [\"Sen Klobuchar\"],\n",
    "    \"Kamala Harris\": [],\n",
    "    \"Beto O’Rourke\": [],\n",
    "    \"Andrew Yang\": [\"Yang\"],\n",
    "    \"Cory Booker\": [\"Corey Booker\", \"Senator Booker\", \"Corey Booker\"],\n",
    "    \"Tulsi Gabbard\": [],\n",
    "    \"Julian Castro\": [\"Julián Castro\"],\n",
    "    \"Elizabeth Warren\": [\"E. Warren\", \"Elizabeth W.\", \"Senator Warren\", \"Sen. Warren\", \"Elizabeth W\"],\n",
    "    \"Tom Steyer\": [],\n",
    "    \"Tim Ryan\": [],\n",
    "    \"John Delaney\": [],\n",
    "    \"Kirsten Gillibrand\": [\"Kirsten G.\", \"Gillibrand\", \"Kristen Gillibr\"],\n",
    "    \"Jay Inslee\": [],\n",
    "    \"Michael Bennet\": [\"Senator Bennet\", \"Bennett\"],\n",
    "    \"Steve Bullock\": [],\n",
    "    \"Bill de Blasio\": [\"Bill De Blasio\", \"Mayor de Blasio\"],\n",
    "    \"Marianne Williamson\": [\"Ms. Williamson\", \"Marianne W.\", \"Williamson\"],\n",
    "    \"Eric Swalwell\": [\"Eric Stalwell\"],\n",
    "    \"John Hickenloop\": [\"John H.\", \"John H\"],\n",
    "}\n",
    "\n",
    "ALIAS_INDEX = {}\n",
    "for name, aliases in ALIASES.items():\n",
    "    reverse_index = {alias: name for alias in aliases}\n",
    "    ALIAS_INDEX.update(reverse_index)\n",
    "\n",
    "def parse_time(time_string):\n",
    "    time = [int(t) for t in time_string.split(\":\")]\n",
    "    if len(time) == 2:\n",
    "        # Add a 0th hour.\n",
    "        time = [0] + time\n",
    "    hours, minutes, seconds = time\n",
    "    return timedelta(hours=hours, minutes=minutes, seconds=seconds)\n",
    "    \n",
    "    def __str__(self):\n",
    "        return \"{0:02d}:{1:02d}:{2:02d}\".format(self.hours, self.minutes, self.seconds)\n",
    "\n",
    "def search(df, term):\n",
    "    return df[df['text'].str.contains(term)]"
   ]
  },
  {
   "cell_type": "markdown",
   "metadata": {},
   "source": [
    "## Multiline Parser\n",
    "```\n",
    "Anderson Cooper: (00:00)\n",
    "It’s the CNN, New York Times Democratic presidential debate. We want to welcome our viewers in the United States and watching around the world, watching us on CNN, CNN International, CNN Espanol, cnn.com, thenewyorktimes.com CNN, CNN’s Facebook page, and listening on the Westworld One Radio Network, Sirius XM satellite radio, NPR, and the American Forces Network. I’m Anderson Cooper moderating tonight’s debate along with CNN’s Erin Burnett and New York Times national editor, Marc Lacey. We are in Ohio tonight because it’s one of the most critical battleground states. Ohio has backed all but two presidential winners in every election since 1896.\n",
    "\n",
    "Erin Burnett: (00:43)\n",
    "The top 12 democratic presidential candidates are at their positions behind the podiums. This is a record number of candidates for a presidential primary debate. So to accommodate the large group, there are no opening statements tonight.\n",
    "\n",
    "Marc Lacey: (00:55)\n",
    "Before we begin a reminder of the ground rules, you’ll each receive 75 seconds to answer questions, 45 seconds for responses and rebuttals, and 15 seconds for clarifications. Please refrain from interrupting your fellow candidates as that will count against your time.\n",
    "```"
   ]
  },
  {
   "cell_type": "code",
   "execution_count": 3,
   "metadata": {},
   "outputs": [],
   "source": [
    "annotation_pattern = re.compile(\"^.*: \\(\\d+:\\d+\\)\")\n",
    "time_pattern = re.compile(\"(\\d+:\\d+)\")\n",
    "name_pattern = re.compile(\"(^.*):\\W\")\n",
    "\n",
    "assert annotation_pattern.match(\"Bernie Sanders: (54:49)'\")\n",
    "assert time_pattern.search(\"Bernie Sanders: (54:49)'\")[0] == '54:49'\n",
    "assert name_pattern.match(\"Bernie Sanders: (54:49)'\").group(1) == 'Bernie Sanders'\n",
    "\n",
    "def multi_line_parser(raw_text):\n",
    "    lines = raw_text.split('\\n')\n",
    "    lines = [line for line in lines if line]\n",
    "    idx = 0\n",
    "    data = []\n",
    "    while idx < len(lines):\n",
    "        annotation_line = lines[idx]\n",
    "        if annotation_pattern.match(annotation_line):\n",
    "            time = time_pattern.search(annotation_line)[0].strip()\n",
    "            name = name_pattern.match(annotation_line).group(1).strip()\n",
    "            idx += 1\n",
    "            text = lines[idx]\n",
    "            data.append({'raw_time': time, 'name': name, 'text': text})\n",
    "        idx += 1\n",
    "    return pd.DataFrame(data)"
   ]
  },
  {
   "cell_type": "markdown",
   "metadata": {},
   "source": [
    "## Single line parser\n",
    "\n",
    "```\n",
    "George S:                      00:00:00           The field has been narrowed. For one night only, the top 10 candidates are here. Our Democratic primary debate starts right now.\n",
    "\n",
    "Joe Biden:                     00:00:11           I will be a president for every American.\n",
    "\n",
    "Sen. Warren:                00:00:14           This is our moment.\n",
    "\n",
    "Bernie Sanders:             00:00:16           We are in a struggle for the future of this country.\n",
    "```"
   ]
  },
  {
   "cell_type": "code",
   "execution_count": 4,
   "metadata": {},
   "outputs": [],
   "source": [
    "line_pattern = re.compile(\"(^.*):\\s+(\\d*:?\\d+:\\d+)\\W*(\\S+.*)$\")\n",
    "def single_line_parser(raw_text):\n",
    "    lines = raw_text.split('\\n')\n",
    "    lines = [line for line in lines if line]\n",
    "    idx = 0\n",
    "    data = []\n",
    "    for line in lines:\n",
    "        if line_pattern.match(line):\n",
    "            name = line_pattern.match(line).group(1).strip()\n",
    "            time = line_pattern.match(line).group(2).strip()\n",
    "            text = line_pattern.match(line).group(3).strip()\n",
    "            data.append({'raw_time': time, 'name': name, 'text': text})\n",
    "    return pd.DataFrame(data)"
   ]
  },
  {
   "cell_type": "code",
   "execution_count": 5,
   "metadata": {},
   "outputs": [],
   "source": [
    "def _fix_times(df):\n",
    "    current_time = df.iloc[0]['time']\n",
    "    df['actual_time'] = current_time\n",
    "    for i, row in df.iterrows():\n",
    "        if i == 0: continue\n",
    "        df.loc[i, 'actual_time'] = df.loc[i - 1, 'actual_time'] + df.loc[i - 1]['time_difference']\n",
    "    return df\n",
    "\n",
    "def dedup_alias(name):\n",
    "    if name in ALIAS_INDEX:\n",
    "        return ALIAS_INDEX[name]\n",
    "    return name\n",
    "def _remove_annotations(text):\n",
    "    text = re.sub(r'\\W?\\[.*\\]', '', text)\n",
    "    text = re.sub(r'\\[.*\\]\\W?', '', text)\n",
    "    return text\n",
    "def add_features(df):\n",
    "    df['time'] = df['raw_time'].apply(parse_time)\n",
    "    df['time_difference'] = df['time'].shift(periods=-1, fill_value=timedelta(0)) - df['time']\n",
    "    df.loc[df['time_difference'] < timedelta(0), 'time_difference'] = timedelta(0)\n",
    "    df['name'] = df['name'].apply(dedup_alias)\n",
    "    df['text'] = df['text'].apply(_remove_annotations)\n",
    "    df = _fix_times(df)\n",
    "    return df\n",
    "assert _remove_annotations(\"Hello [crosstalk 00:12:23] world\") == \"Hello world\""
   ]
  },
  {
   "cell_type": "code",
   "execution_count": 6,
   "metadata": {},
   "outputs": [
    {
     "name": "stdout",
     "output_type": "stream",
     "text": [
      "Parsing debate first_1\n",
      "Parsing debate first_2\n",
      "Parsing debate second_1\n",
      "Parsing debate second_2\n",
      "Parsing debate third\n",
      "Parsing debate fourth\n",
      "Parsing debate fifth\n",
      "Parsing debate sixth\n"
     ]
    }
   ],
   "source": [
    "DATASETS = [\n",
    "    {\n",
    "        'file': 'raw_data/first_1.txt',\n",
    "        'debate': 'first_1',\n",
    "        'parser': single_line_parser,\n",
    "        'date': '06/26/19',\n",
    "    },\n",
    "    {\n",
    "        'file': 'raw_data/first_2.txt',\n",
    "        'debate': 'first_2',\n",
    "        'parser': single_line_parser,\n",
    "        'date': '06/27/19',\n",
    "    },\n",
    "    {\n",
    "        'file': 'raw_data/second_1.txt',\n",
    "        'debate': 'second_1',\n",
    "        'parser': single_line_parser,\n",
    "        'date': '06/30/19',\n",
    "    },\n",
    "    {\n",
    "        'file': 'raw_data/second_2.txt',\n",
    "        'debate': 'second_2',\n",
    "        'parser': single_line_parser,\n",
    "        'date': '07/31/19',\n",
    "    },\n",
    "    {\n",
    "        'file': 'raw_data/third.txt',\n",
    "        'debate': 'third',\n",
    "        'parser': single_line_parser,\n",
    "        'date': '09/12/19',\n",
    "    },\n",
    "    {\n",
    "        'file': 'raw_data/fourth.txt',\n",
    "        'debate': 'fourth',\n",
    "        'parser': multi_line_parser,\n",
    "        'date': '10/15/19',\n",
    "    },\n",
    "    {\n",
    "        'file': 'raw_data/fifth.txt',\n",
    "        'debate': 'fifth',\n",
    "        'parser': multi_line_parser,\n",
    "        'date': '11/20/19',\n",
    "    },\n",
    "    {\n",
    "        'file': 'raw_data/sixth.txt',\n",
    "        'debate': 'sixth',\n",
    "        'parser': multi_line_parser,\n",
    "        'date': '12/19/19',\n",
    "    },\n",
    "]\n",
    "\n",
    "dfs = []\n",
    "\n",
    "for dataset in DATASETS:\n",
    "    print(\"Parsing debate {}\".format(dataset['debate']))\n",
    "    raw_text = open(dataset['file']).read()\n",
    "    parser = dataset['parser']\n",
    "    df = parser(raw_text)\n",
    "    df = add_features(df)\n",
    "    df['debate'] = dataset['debate']\n",
    "    df['date'] = datetime.strptime(dataset['date'], \"%m/%d/%y\")\n",
    "    df['num_words'] = df['text'].apply(lambda text: len(word_tokenize(text)))\n",
    "    dfs.append(df)\n",
    "\n",
    "all_debates_df = pd.concat(dfs)"
   ]
  },
  {
   "cell_type": "code",
   "execution_count": 7,
   "metadata": {},
   "outputs": [],
   "source": [
    "all_debates_df.to_csv('debates.csv', index=False)"
   ]
  },
  {
   "cell_type": "code",
   "execution_count": 8,
   "metadata": {},
   "outputs": [
    {
     "data": {
      "text/plain": [
       "name\n",
       "Elizabeth Warren      01:17:34\n",
       "Joe Biden             01:15:18\n",
       "Bernie Sanders        01:11:14\n",
       "Pete Buttigieg        01:01:19\n",
       "Amy Klobuchar         00:57:18\n",
       "Kamala Harris         00:51:26\n",
       "Cory Booker           00:47:13\n",
       "Andrew Yang           00:34:44\n",
       "Beto O’Rourke         00:34:18\n",
       "Julian Castro         00:31:17\n",
       "Tulsi Gabbard         00:23:14\n",
       "Jake Tapper           00:18:05\n",
       "Kirsten Gillibrand    00:17:43\n",
       "Tom Steyer            00:17:11\n",
       "Tim Ryan              00:16:56\n",
       "Michael Bennet        00:16:54\n",
       "Bill de Blasio        00:15:16\n",
       "John Delaney          00:15:06\n",
       "Rachel Maddow         00:14:59\n",
       "John Hickenloop       00:13:53\n",
       "Chuck Todd            00:13:49\n",
       "Marianne Williamson   00:13:47\n",
       "Jay Inslee            00:11:57\n",
       "Lester Holt           00:10:50\n",
       "Steve Bullock         00:10:10\n",
       "Dana Bash             00:09:01\n",
       "Speaker 26            00:08:29\n",
       "Judy Woodruff         00:07:34\n",
       "David Muir            00:07:04\n",
       "Don Lemon             00:06:54\n",
       "Jose                  00:06:40\n",
       "Steve Kornacki        00:06:10\n",
       "Anderson Cooper       00:05:53\n",
       "Jorge Ramos           00:05:44\n",
       "George S              00:05:43\n",
       "Eric Swalwell         00:04:29\n",
       "Savannah              00:04:16\n",
       "Tim Alberta           00:04:15\n",
       "Savannah G.           00:03:33\n",
       "Amna Nawaz            00:03:30\n",
       "Voiceover             00:03:11\n",
       "Erin Burnett          00:03:04\n",
       "Marc Lacey            00:02:35\n",
       "Ashley Parker         00:02:22\n",
       "Speaker 1             00:02:19\n",
       "Lindsey Davis         00:02:11\n",
       "Male                  00:02:02\n",
       "Andrea Mitchell       00:01:59\n",
       "Tim                   00:01:47\n",
       "George S.             00:01:43\n",
       "John King             00:01:37\n",
       "Yamiche               00:01:25\n",
       "Kristen Welker        00:01:19\n",
       "Yamiche A.            00:01:12\n",
       "Judy                  00:01:07\n",
       "Female                00:00:55\n",
       "Amna                  00:00:41\n",
       "Amy Walter            00:00:35\n",
       "Speaker 30            00:00:30\n",
       "Stephanie Sy          00:00:28\n",
       "Diana                 00:00:26\n",
       "Henderson             00:00:21\n",
       "Speaker 2             00:00:20\n",
       "Speaker 14            00:00:18\n",
       "Crowd                 00:00:11\n",
       "Speaker 7             00:00:09\n",
       "Speaker 31            00:00:09\n",
       "Speaker 3             00:00:07\n",
       "Moderator             00:00:06\n",
       "Speaker 16            00:00:04\n",
       "Audience              00:00:02\n",
       "Speaker 20            00:00:02\n",
       "Speaker 17            00:00:02\n",
       "Speaker 18            00:00:02\n",
       "Speaker 8             00:00:02\n",
       "Speaker 5             00:00:02\n",
       "Speaker 15            00:00:01\n",
       "Speaker 13            00:00:01\n",
       "Speaker 19            00:00:01\n",
       "Speaker 6             00:00:01\n",
       "Speaker 4             00:00:01\n",
       "Speaker 21            00:00:01\n",
       "Speaker 23            00:00:01\n",
       "Name: time_difference, dtype: timedelta64[ns]"
      ]
     },
     "execution_count": 8,
     "metadata": {},
     "output_type": "execute_result"
    }
   ],
   "source": [
    "all_debates_df.groupby('name')['time_difference'].agg(sum).sort_values(ascending=False)[0:100]"
   ]
  },
  {
   "cell_type": "markdown",
   "metadata": {},
   "source": [
    "## Top line metrics"
   ]
  },
  {
   "cell_type": "code",
   "execution_count": 16,
   "metadata": {},
   "outputs": [],
   "source": [
    "candidates_df = all_debates_df[all_debates_df['name'].isin(ALIASES.keys())]"
   ]
  },
  {
   "cell_type": "code",
   "execution_count": 23,
   "metadata": {},
   "outputs": [
    {
     "name": "stdout",
     "output_type": "stream",
     "text": [
      "Total time speaking: 0 days 11:58:17\n",
      "Total words: 150828\n",
      "Total candidates: 22\n"
     ]
    }
   ],
   "source": [
    "total_words = flatten([word_tokenize(text.lower()) for text in list(candidates_df['text'])])\n",
    "print(\"Total time speaking: {}\".format(str(candidates_df['time_difference'].sum())))\n",
    "print(\"Total words: {}\".format(len(total_words)))\n",
    "print(\"Total candidates: {}\".format(len(candidates_df['name'].unique())))"
   ]
  },
  {
   "cell_type": "markdown",
   "metadata": {},
   "source": [
    "## Clustering\n",
    "\n",
    "Cluster the words by contextual word embeddings"
   ]
  },
  {
   "cell_type": "code",
   "execution_count": 39,
   "metadata": {},
   "outputs": [],
   "source": [
    "from transformers import BertModel, BertTokenizer\n",
    "import torch"
   ]
  },
  {
   "cell_type": "code",
   "execution_count": 42,
   "metadata": {},
   "outputs": [],
   "source": [
    "pretrained_weights = 'bert-base-uncased'\n",
    "tokenizer = BertTokenizer.from_pretrained(pretrained_weights)\n",
    "model = BertModel.from_pretrained(pretrained_weights)"
   ]
  },
  {
   "cell_type": "code",
   "execution_count": 46,
   "metadata": {},
   "outputs": [],
   "source": [
    "input_ids = torch.tensor([tokenizer.encode(\"Here is some text to encode\", add_special_tokens=True)])  # Add special tokens takes care of adding [CLS], [SEP], <s>... tokens in the right way for each model.\n",
    "with torch.no_grad():\n",
    "    last_hidden_states = model(input_ids)[0]  # Models outputs are now tuples\n"
   ]
  },
  {
   "cell_type": "code",
   "execution_count": 62,
   "metadata": {},
   "outputs": [
    {
     "name": "stderr",
     "output_type": "stream",
     "text": [
      "100%|██████████| 3417/3417 [06:53<00:00,  8.26it/s]\n"
     ]
    }
   ],
   "source": [
    "def embed_text(text):\n",
    "    input_ids = torch.tensor([tokenizer.encode(text, add_special_tokens=True)])\n",
    "    with torch.no_grad():\n",
    "        last_hidden_states = model(input_ids)[0]  # Models outputs are now tuples\n",
    "        return torch.mean(last_hidden_states.view(-1, 768), 0)\n",
    "\n",
    "all_debates_df['embedding'] = all_debates_df['text'].progress_apply(embed_text)"
   ]
  },
  {
   "cell_type": "code",
   "execution_count": 119,
   "metadata": {},
   "outputs": [],
   "source": [
    "from sklearn.cluster import KMeans\n",
    "import random\n",
    "\n",
    "def cluster(embeddings):\n",
    "    kmeans = KMeans(n_clusters=20, random_state=0).fit(embeddings)\n",
    "    return kmeans\n",
    "\n",
    "def sample(model, cluster_id):\n",
    "    idxs_in_cluster = [i for i, c_id in enumerate(model.labels_) if c_id == cluster_id]\n",
    "    return random.sample(idxs_in_cluster, k=min(100, len(idxs_in_cluster)))\n",
    "\n",
    "long_text_df = all_debates_df[all_debates_df['num_words'] > 20]\n",
    "embeddings = np.stack(long_text_df['embedding'].values)\n",
    "model = cluster(embeddings)\n",
    "from collections import Counter\n",
    "counter = Counter(model.labels_)\n"
   ]
  },
  {
   "cell_type": "code",
   "execution_count": 158,
   "metadata": {},
   "outputs": [
    {
     "data": {
      "text/plain": [
       "191    We stand in line and pay expensive prescription drugs. We have to have a healthcare guarantee. If you’re sick, you’re seen. And in America, you never go broke because of it.                                                                                                                                                                                                                                                                                                                                                                                                                                                                                                                                                                                   \n",
       "114    Now, I am Asian, so I know a lot of doctors, and they tell me that they spend a lot of time on paperwork, avoiding being sued, and navigating the insurance bureaucracy. We have to change the incentives so instead of revenue and activity people are focused on our health in the healthcare system, and the Cleveland Clinic where they’re paid not based upon how many procedures they prescribe, shocker, they prescribe fewer procedures, and patient health stays the same or improves. That is the pitch to the American people.                                                                                                                                                                                                                       \n",
       "76     That’s right, so for those who’s not working they can choose medicare. For the –                                                                                                                                                                                                                                                                                                                                                                                                                                                                                                                                                                                                                                                                                \n",
       "84     It’s time that we separate employers from the kind of healthcare people get, and under my plan, we do that. As it relates to the insurance and pharmaceutical companies-                                                                                                                                                                                                                                                                                                                                                                                                                                                                                                                                                                                        \n",
       "58     My view on this and what I have committed to, is costs will go down for hardworking middle class families. I will not embrace a plan like Medicare for All who can afford it, that will leave behind millions of people who cannot. And I will not embrace a plan that says people have great insurance right up until you get the diagnosis and the insurance company says, “Sorry, we’re not covering your expensive cancer treatments. We’re not covering your expensive treatments for M.S. We’re not covering what covering what you need.”                                                                                                                                                                                                                \n",
       "29     I listened to the American families who said four years is just not enough to transition into this new plan. So I devised a plan where it’s going to be 10 years of a transition. I listened to American families who said, I want an option that will be under your Medicare system that allows a private plan. So I designed a plan where yes, responsive to the needs of American families, there will be a public plan under my plan for Medicare and a private plan under my plan for Medicare. Because the bottom line is this, we must agree that access to healthcare must be a right and not just a privilege of those who can afford it. And in America today, far too many people, in fact, 30 million people are going without access to healthcare.\n",
       "84     I also think if you look at other countries in the world who have universal healthcare, every one of them has form of a role of private insurance. I think that’s what we’ve got to look at, taking the best of these ideas, but making sure unequivocally that no sick American goes without getting the care that they need regardless of how much or little money they have in their pocket.                                                                                                                                                                                                                                                                                                                                                                 \n",
       "50     Where I disagree is on his solution on Medicare for All. You know, I have proposed getting to universal healthcare, which we need to do, it is a right. Healthcare is a right. We need to get to universal healthcare. I believe the way to do that is by finishing the work we started with Obamacare and creating a public option, that every family and every person in America can make a choice for their family about whether they want a public option, which for them would be like having Medicare for All, or whether they want to keep their private insurance.                                                                                                                                                                                      \n",
       "3      Under that system, by the way, vast majority of the people in this country will be paying significantly less for healthcare than they are right now.                                                                                                                                                                                                                                                                                                                                                                                                                                                                                                                                                                                                            \n",
       "95     I think you can buy into it. That’s the idea of Medicare for All who want it.                                                                                                                                                                                                                                                                                                                                                                                                                                                                                                                                                                                                                                                                                   \n",
       "43     My response is Obamacare is working. The way to build this and get to it immediately is to build on Obamacare. Go back and do… take back all the things that Trump took away, provide a public option, meaning every single person in America would be able to buy into the option if they didn’t like their employer plan or if they’re on Medicaid, they’d automatically be in the plan. It would be taking place immediately, it would move quickly, and it would insure the vast, vast, vast majority of Americans.                                                                                                                                                                                                                                         \n",
       "139    Well, two things. They will be better because Medicare for All is comprehensive. It covers all healthcare needs. For senior citizens, it will finally include dental care, hearing aids and eyeglasses.                                                                                                                                                                                                                                                                                                                                                                                                                                                                                                                                                         \n",
       "97     If they choose to hold onto strong solid private health insurance, I believe they should be able to do that, but the difference between what I support and what you support, Vice President Biden, is that you require them to opt in, and I would not require them to opt in, they would automatically be enrolled. They wouldn’t have to buy in. That’s a big difference, because Barrack Obama’s vision was not to leave 10 million people uncovered. He wanted every single person in this country covered. My plan would do that. Your plan would not.                                                                                                                                                                                                     \n",
       "132    God bless the insurers if they want to compete. They can certainly try. But they’ve never put people over their profits, and I doubt they ever will. What will happen is people will choose Medicare, you will transition. We will get to Medicare for All, and then your step to single player is so short I would make it an earned benefit, just like Social Security, so that buy in your whole life-                                                                                                                                                                                                                                                                                                                                                       \n",
       "205    If they’re seeking asylum, of course, we want to welcome them. We’re a strong enough country to be able to welcome them. And as far as the healthcare goes, undocumented people can buy healthcare, too. I mean, everyone else in America is paying for their healthcare. I don’t think it’s a stretch for us to ask undocumented people in the country to also pay for healthcare.                                                                                                                                                                                                                                                                                                                                                                             \n",
       "182    So they get in their car and they drive, and they’re sitting in the parking lot outside of the emergency room looking at those sliding glass doors, while they have the hand on the forehead of their child knowing that if they walk through those sliding glass doors- even though they have insurance- they will be out of $5,000.00 deductible. $ 5,000.00 deductible when they walk through those doors.                                                                                                                                                                                                                                                                                                                                                   \n",
       "54     My Dad, the union electrician, loved the healthcare he got from the IBEW. He would never want someone to take that away. Half of Medicare beneficiaries now have Medicare advantage, which is private insurance or supplemental plans. It’s also bad policy. It’ll underfund the industry.                                                                                                                                                                                                                                                                                                                                                                                                                                                                      \n",
       "58     Let’s be clear. I’ve actually never met anybody who likes their health insurance company. I’ve met people who like their doctors. I’ve met people who like their nurses. I’ve met people who like their pharmacists. I met people who like their physical therapists. What they want is access to health care, and we just need to be clear about what Medicare for all is all about. Instead of paying premiums into insurance companies, and then having insurance companies build their profits by saying no to coverage, we’re going to do this by saying everyone is covered by Medicare for all. Every healthcare provider is covered. The only question here, in terms of difference, is where to send the bill.                                         \n",
       "9      Secondly, I’d use Pell Grants. I’d double them from 6,000 to $12,000 a year, and expand it to the number of families that get covered, to families that make up to $100,000.                                                                                                                                                                                                                                                                                                                                                                                                                                                                                                                                                                                    \n",
       "145    Everyone, whether they have private insurance, employer insurance, or no insurance, they in fact could buy in in the exchange to a Medicare-like plan. The way to do that, you can do it quickly. Look, urgency matters. There’s people right now facing what I faced, and what we faced, without any of the help I had. We must move now. I am against any democrat who opposes and tries to take down Obamacare-                                                                                                                                                                                                                                                                                                                                              \n",
       "168    I think that’s what the American people want. I believe it will get us there quickly. There are millions of people in America that do not have health insurance today because they can’t. They’re too “wealthy”. They make too much money to be on Medicaid. They can’t afford health insurance. When Senator Sanders says that Canada is single pair, there are 35 million people in Canada. There are 330 million people in the United States. Easily the number of people on a public option.                                                                                                                                                                                                                                                                \n",
       "95     I just wanted to say there’s three women up here that have fought pretty hard for woman’s right to choose, I’ll start with that. And then I just want to make very clear, I think we share the goal of universal health care, and the idea I put out there, the public option, which the governor was just talking about, this idea is that you use medicare or medicaid without any insurance companies involved, you could do it either way. And the estimates are, 13 million people would see a reduction in their premiums, 12 more million people would get covered. So I think it is a beginning in the way you start and the way you move to universal healthcare.                                                                                      \n",
       "81     Well, I know that this is something very personal for all Americans. I grew up with a grandmother that had diabetes, and I watched as her condition got worse and worse. That whole time, she had Medicare. I want to strengthen Medicare for the people who are on it, and then expand it to anybody who wants it. I also believe though that if somebody has a private health insurance plan that is strong, that they want to hold onto, that they should be able to do that. What I don’t believe is that the profit motive of big pharma or big insurance companies should ever determine in our great nation, whether somebody gets healthcare or not.                                                                                                    \n",
       "141    Off of their insurance plan they don’t like, no matter what one it is and buy into a Medicare option. And they can buy the Gold Plan and they’re not going to have to pay. Anyway.                                                                                                                                                                                                                                                                                                                                                                                                                                                                                                                                                                              \n",
       "96     Look, this is a distinction without a difference whether you’re paying the same money in the form of taxes or premiums. Look. In this country, if you have health coverage… If you don’t have health coverage, you’re paying too much for care. And if you do have health coverage, you’re paying too much for the care.                                                                                                                                                                                                                                                                                                                                                                                                                                        \n",
       "Name: text, dtype: object"
      ]
     },
     "execution_count": 158,
     "metadata": {},
     "output_type": "execute_result"
    }
   ],
   "source": [
    "long_text_df.iloc[sample(model, cluster_id=13)[0:25]].text"
   ]
  },
  {
   "cell_type": "markdown",
   "metadata": {},
   "source": [
    "## Lets do some NER tagging"
   ]
  },
  {
   "cell_type": "code",
   "execution_count": 164,
   "metadata": {},
   "outputs": [
    {
     "name": "stderr",
     "output_type": "stream",
     "text": [
      "100%|██████████| 3417/3417 [00:50<00:00, 67.37it/s]\n"
     ]
    }
   ],
   "source": [
    "import spacy\n",
    "nlp = spacy.load('en_core_web_lg')\n",
    "all_debates_df['doc'] = all_debates_df['text'].progress_apply(nlp)"
   ]
  },
  {
   "cell_type": "code",
   "execution_count": 170,
   "metadata": {},
   "outputs": [
    {
     "name": "stdout",
     "output_type": "stream",
     "text": [
      "Comment on every topic, but over the course of the next two hours, we will hear from everyone. We’d also like to ask the audience to keep their reactions to a minimum, we are not going to be shy about making sure that candidates stick to time tonight. (the next two hours, tonight)\n",
      "All right, so with that business out of the way, we want to get to it and we’ll start this evening with Senator Elizabeth Warren. Senator, good evening to you. (this evening, Elizabeth Warren, evening)\n",
      "Thank you. to be here. ()\n",
      "You have many plans. Free college, free childcare, government healthcare, cancellation of student debt, new taxes, new regulations, the breakup of major corporations, but this comes at a time when 71% of Americans say the economy is doing well, including 60% of Democrats. (71%, Americans, 60%, Democrats)\n",
      "What do you say to those who worry this kind of significant change could be risky to the economy? ()\n",
      "I think of it this way. Who is this economy really working for? It’s doing great for thinner and thinner slice at the top. It’s doing great for giant drug companies. It’s just not doing great for people who are trying to get a prescription filled. It’s doing great for people who want to invest in private prisons, just not for the African Americans and Latin X whose families were torn apart, whose lives are destroyed and whose communities are ruined. It’s doing great for giant oil companies that want to drill everywhere, just not for the rest of us who are watching climate change bear down upon us. (the African Americans, Latin)\n",
      "When you’ve got a government, when you’ve got an autonomy, that does great for those with money and isn’t doing great for everyone else, that is corruption pure and simple, we need to call it out, we need to attack it head on, and we need to make structural change in our government, in our economy, and in our country. ()\n",
      "Senator Klobuchar, you’ve called programs like free college, something you might do if you were, “A magic genie.” To be blunt, are the government programs and benefits that some of your rivals are offering, giving your voters, people, a false sense of what’s actually achievable? (Klobuchar, A magic genie)\n",
      "Well, first the economy. We know that not everyone is sharing in this prosperity and Donald Trump just sits in the White House and gloats about what’s going on, when you have so many people that are having trouble affording college and having trouble affording their premiums. I do get concerned about paying for college for rich kids, I do, but I think my plan is a good one, and my plan would be to first of all make community college free and make sure that everyone else besides that top percentile, gets help with their education. My own dad and my sister, got their first degrees with community college. There’s many paths to success as well as certifications. (first, Donald Trump, the White House, first)\n",
      "Secondly, I’d use Pell Grants. I’d double them from 6,000 to $12,000 a year, and expand it to the number of families that get covered, to families that make up to $100,000. (Secondly, Pell Grants, 6,000 to $12,000, up to $100,000)\n"
     ]
    }
   ],
   "source": [
    "for i in range(10):  \n",
    "    print(all_debates_df.iloc[i]['doc'], all_debates_df.iloc[i]['doc'].ents)"
   ]
  },
  {
   "cell_type": "code",
   "execution_count": 175,
   "metadata": {},
   "outputs": [],
   "source": [
    "def extract_named_entities(doc, label):\n",
    "    return [ent.text for ent in doc.ents if ent.label_ == label]"
   ]
  },
  {
   "cell_type": "code",
   "execution_count": 177,
   "metadata": {},
   "outputs": [
    {
     "name": "stdout",
     "output_type": "stream",
     "text": [
      "[]\n",
      "['Elizabeth Warren']\n",
      "[]\n",
      "[]\n",
      "[]\n",
      "[]\n",
      "[]\n",
      "['Klobuchar']\n",
      "['Donald Trump']\n",
      "[]\n",
      "[]\n",
      "[]\n",
      "['O’Rourke']\n",
      "[]\n",
      "[]\n",
      "[]\n",
      "[]\n",
      "[]\n",
      "[]\n",
      "[]\n",
      "[]\n",
      "[]\n",
      "[]\n",
      "['Booker', 'Warren']\n",
      "[]\n",
      "[]\n",
      "[]\n",
      "['Booker', 'Warren']\n",
      "[]\n",
      "[]\n",
      "['Warren']\n",
      "[]\n",
      "[]\n",
      "[]\n",
      "[]\n",
      "['Castro']\n",
      "['Lester', 'Joaquin']\n",
      "[]\n",
      "['Congresswoman Gabbard']\n",
      "[]\n",
      "[]\n",
      "[]\n",
      "['Blasio']\n",
      "[]\n",
      "[]\n",
      "[]\n",
      "['00:12:04']\n",
      "['Delaney']\n",
      "[]\n",
      "[]\n",
      "[]\n",
      "['Inslee']\n",
      "[]\n",
      "['Donald Trump']\n",
      "[]\n",
      "['Ryan', 'Trump']\n",
      "[]\n",
      "[]\n",
      "['Warren']\n",
      "[]\n",
      "[]\n",
      "[]\n",
      "[]\n",
      "['Klobuchar']\n",
      "['Barack Obama']\n",
      "[]\n",
      "['Warren', 'Bernie Sanders’']\n",
      "[]\n",
      "[]\n",
      "['O’Rourke']\n",
      "[]\n",
      "[]\n",
      "[]\n",
      "[]\n",
      "[]\n",
      "[]\n",
      "[]\n",
      "[]\n",
      "[]\n",
      "[]\n",
      "[]\n",
      "['John']\n",
      "['Congresswoman Gabbard']\n",
      "[]\n",
      "[]\n",
      "['Booker', 'Booker']\n",
      "[]\n",
      "[]\n",
      "[]\n",
      "['Gabbard']\n",
      "[]\n",
      "['Inslee']\n",
      "[]\n",
      "[]\n",
      "['Klobuchar']\n",
      "[]\n",
      "['Castro']\n",
      "[]\n",
      "['Warren']\n",
      "[]\n"
     ]
    }
   ],
   "source": [
    "for i in range(100):  \n",
    "    print(extract_named_entities(all_debates_df.iloc[i]['doc'], \"PERSON\"))"
   ]
  },
  {
   "cell_type": "code",
   "execution_count": null,
   "metadata": {},
   "outputs": [],
   "source": []
  }
 ],
 "metadata": {
  "kernelspec": {
   "display_name": "Python 3",
   "language": "python",
   "name": "python3"
  },
  "language_info": {
   "codemirror_mode": {
    "name": "ipython",
    "version": 3
   },
   "file_extension": ".py",
   "mimetype": "text/x-python",
   "name": "python",
   "nbconvert_exporter": "python",
   "pygments_lexer": "ipython3",
   "version": "3.6.5"
  }
 },
 "nbformat": 4,
 "nbformat_minor": 2
}
